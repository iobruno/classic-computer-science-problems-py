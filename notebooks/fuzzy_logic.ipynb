{
 "cells": [
  {
   "cell_type": "markdown",
   "metadata": {
    "colab_type": "text",
    "id": "view-in-github"
   },
   "source": [
    "<a href=\"https://colab.research.google.com/github/iobruno/artificial-inteligence-101/blob/master/notebooks/fuzzy_logic.ipynb\" target=\"_parent\"><img src=\"https://colab.research.google.com/assets/colab-badge.svg\" alt=\"Open In Colab\"/></a>"
   ]
  },
  {
   "cell_type": "code",
   "execution_count": 1,
   "metadata": {
    "id": "la3-nAGzrqN7"
   },
   "outputs": [],
   "source": [
    "import numpy as np\n",
    "import skfuzzy \n",
    "from skfuzzy import control"
   ]
  },
  {
   "cell_type": "code",
   "execution_count": 2,
   "metadata": {
    "id": "jyo36eyt68gy"
   },
   "outputs": [],
   "source": [
    "max_int = np.iinfo(np.int16).max"
   ]
  },
  {
   "cell_type": "code",
   "execution_count": 3,
   "metadata": {
    "id": "9sZzT5fpt8v2"
   },
   "outputs": [],
   "source": [
    "# Segmentation of SPEED\n",
    "speed = control.Antecedent(np.arange(0, max_int), 'speed')\n",
    "speed['slow'] = skfuzzy.trapmf(speed.universe, [0, 0, 3, 5])\n",
    "speed['fast'] = skfuzzy.trapmf(speed.universe, [4, 6, 8, 10])\n",
    "speed['very_fast'] = skfuzzy.trapmf(speed.universe, [9, 12, max_int, max_int])"
   ]
  },
  {
   "cell_type": "code",
   "execution_count": 4,
   "metadata": {
    "id": "uuGOHHGPxb5a"
   },
   "outputs": [],
   "source": [
    "# Segmentation of DISTANCE\n",
    "distance = control.Antecedent(np.arange(0, max_int), 'distance')\n",
    "distance['close'] = skfuzzy.trapmf(distance.universe, [0, 0, 8, 15])\n",
    "distance['far'] = skfuzzy.trapmf(distance.universe, [10, 50, max_int, max_int])"
   ]
  },
  {
   "cell_type": "code",
   "execution_count": 5,
   "metadata": {
    "id": "QgjMKFTuxdZM"
   },
   "outputs": [],
   "source": [
    "# Segmentation of 'BREAKING'\n",
    "breaking = control.Consequent(np.arange(0, 101), 'breaking')\n",
    "breaking['no_break'] = skfuzzy.trapmf(breaking.universe, [0, 0, 0, 0])\n",
    "breaking['low'] = skfuzzy.trapmf(breaking.universe, [0, 0, 10, 25])\n",
    "breaking['moderate'] = skfuzzy.trapmf(breaking.universe, [20, 30, 60, 85])\n",
    "breaking['full_break'] = skfuzzy.trapmf(breaking.universe, [80, 90, 101, 101])"
   ]
  },
  {
   "cell_type": "code",
   "execution_count": 6,
   "metadata": {
    "id": "C5JpOz1r0fJx"
   },
   "outputs": [],
   "source": [
    "# Rule Definition\n",
    "rules = [\n",
    "  control.Rule(speed['fast'] & distance['close'], breaking['moderate']),\n",
    "  control.Rule(speed['fast'] & distance['far'], breaking['no_break']),\n",
    "\n",
    "  control.Rule(speed['very_fast'] & distance['close'], breaking['full_break']),\n",
    "  control.Rule(speed['very_fast'] & distance['far'], breaking['low']),\n",
    "\n",
    "  control.Rule(speed['slow'] & distance['close'], breaking['low']),\n",
    "  control.Rule(speed['slow'] & distance['far'], breaking['no_break'])\n",
    "]"
   ]
  },
  {
   "cell_type": "code",
   "execution_count": 7,
   "metadata": {
    "id": "gsrmdqGf4cSy"
   },
   "outputs": [],
   "source": [
    "breaking_ctrl = control.ControlSystem(rules)\n",
    "decision = control.ControlSystemSimulation(breaking_ctrl)"
   ]
  },
  {
   "cell_type": "code",
   "execution_count": 8,
   "metadata": {
    "colab": {
     "base_uri": "https://localhost:8080/",
     "height": 33
    },
    "id": "rJeD83b92SBr",
    "outputId": "873f38b7-099c-4046-afbd-eeccbf289c7e"
   },
   "outputs": [
    {
     "name": "stdout",
     "output_type": "stream",
     "text": [
      "92.22222222222223\n"
     ]
    }
   ],
   "source": [
    "decision.input['speed'] = 12\n",
    "decision.input['distance'] = 1\n",
    "decision.compute()\n",
    "value = decision.output['breaking']\n",
    "\n",
    "print(value)"
   ]
  },
  {
   "cell_type": "code",
   "execution_count": 102,
   "metadata": {
    "id": "kRkNzoeW6lgQ"
   },
   "outputs": [],
   "source": []
  }
 ],
 "metadata": {
  "colab": {
   "authorship_tag": "ABX9TyP0hZZlf3RCsGXT9zAcQpf1",
   "collapsed_sections": [],
   "include_colab_link": true,
   "name": "fuzzy_logic.ipynb",
   "provenance": []
  },
  "kernelspec": {
   "display_name": "Python 3 (ipykernel)",
   "language": "python",
   "name": "python3"
  },
  "language_info": {
   "codemirror_mode": {
    "name": "ipython",
    "version": 3
   },
   "file_extension": ".py",
   "mimetype": "text/x-python",
   "name": "python",
   "nbconvert_exporter": "python",
   "pygments_lexer": "ipython3",
   "version": "3.11.5"
  }
 },
 "nbformat": 4,
 "nbformat_minor": 4
}
