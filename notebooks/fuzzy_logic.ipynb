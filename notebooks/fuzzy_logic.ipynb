{
  "nbformat": 4,
  "nbformat_minor": 0,
  "metadata": {
    "colab": {
      "name": "fuzzy_logic.ipynb",
      "provenance": [],
      "collapsed_sections": [],
      "authorship_tag": "ABX9TyP0hZZlf3RCsGXT9zAcQpf1",
      "include_colab_link": true
    },
    "kernelspec": {
      "name": "python3",
      "display_name": "Python 3"
    }
  },
  "cells": [
    {
      "cell_type": "markdown",
      "metadata": {
        "id": "view-in-github",
        "colab_type": "text"
      },
      "source": [
        "<a href=\"https://colab.research.google.com/github/iobruno/artificial-inteligence-101/blob/master/notebooks/fuzzy_logic.ipynb\" target=\"_parent\"><img src=\"https://colab.research.google.com/assets/colab-badge.svg\" alt=\"Open In Colab\"/></a>"
      ]
    },
    {
      "cell_type": "code",
      "metadata": {
        "id": "mMoXdgHNrnzM",
        "outputId": "b0edda9d-e92d-410e-e9eb-b39e9e2548f1",
        "colab": {
          "base_uri": "https://localhost:8080/",
          "height": 115
        }
      },
      "source": [
        "!pip install numpy\n",
        "!pip install scikit-fuzzy"
      ],
      "execution_count": 140,
      "outputs": [
        {
          "output_type": "stream",
          "text": [
            "Requirement already satisfied: numpy in /usr/local/lib/python3.6/dist-packages (1.18.5)\n",
            "Requirement already satisfied: scikit-fuzzy in /usr/local/lib/python3.6/dist-packages (0.4.2)\n",
            "Requirement already satisfied: scipy>=0.9.0 in /usr/local/lib/python3.6/dist-packages (from scikit-fuzzy) (1.4.1)\n",
            "Requirement already satisfied: networkx>=1.9.0 in /usr/local/lib/python3.6/dist-packages (from scikit-fuzzy) (2.5)\n",
            "Requirement already satisfied: numpy>=1.6.0 in /usr/local/lib/python3.6/dist-packages (from scikit-fuzzy) (1.18.5)\n",
            "Requirement already satisfied: decorator>=4.3.0 in /usr/local/lib/python3.6/dist-packages (from networkx>=1.9.0->scikit-fuzzy) (4.4.2)\n"
          ],
          "name": "stdout"
        }
      ]
    },
    {
      "cell_type": "code",
      "metadata": {
        "id": "la3-nAGzrqN7"
      },
      "source": [
        "import numpy as np\n",
        "import skfuzzy \n",
        "from skfuzzy import control"
      ],
      "execution_count": 141,
      "outputs": []
    },
    {
      "cell_type": "code",
      "metadata": {
        "id": "jyo36eyt68gy"
      },
      "source": [
        "max_int = np.iinfo(np.int16).max"
      ],
      "execution_count": 142,
      "outputs": []
    },
    {
      "cell_type": "code",
      "metadata": {
        "id": "9sZzT5fpt8v2"
      },
      "source": [
        "# Segmentation of SPEED\n",
        "speed = control.Antecedent(np.arange(0, max_int), 'speed')\n",
        "speed['slow'] = skfuzzy.trapmf(speed.universe, [0, 0, 3, 5])\n",
        "speed['fast'] = skfuzzy.trapmf(speed.universe, [4, 6, 8, 10])\n",
        "speed['very_fast'] = skfuzzy.trapmf(speed.universe, [9, 12, max_int, max_int])"
      ],
      "execution_count": 143,
      "outputs": []
    },
    {
      "cell_type": "code",
      "metadata": {
        "id": "uuGOHHGPxb5a"
      },
      "source": [
        "# Segmentation of DISTANCE\n",
        "distance = control.Antecedent(np.arange(0, max_int), 'distance')\n",
        "distance['close'] = skfuzzy.trapmf(distance.universe, [0, 0, 8, 15])\n",
        "distance['far'] = skfuzzy.trapmf(distance.universe, [10, 50, max_int, max_int])"
      ],
      "execution_count": 144,
      "outputs": []
    },
    {
      "cell_type": "code",
      "metadata": {
        "id": "QgjMKFTuxdZM"
      },
      "source": [
        "# Segmentation of 'BREAKING'\n",
        "breaking = control.Consequent(np.arange(0, 101), 'breaking')\n",
        "breaking['no_break'] = skfuzzy.trapmf(breaking.universe, [0, 0, 0, 0])\n",
        "breaking['low'] = skfuzzy.trapmf(breaking.universe, [0, 0, 10, 25])\n",
        "breaking['moderate'] = skfuzzy.trapmf(breaking.universe, [20, 30, 60, 85])\n",
        "breaking['full_break'] = skfuzzy.trapmf(breaking.universe, [80, 90, 101, 101])"
      ],
      "execution_count": 149,
      "outputs": []
    },
    {
      "cell_type": "code",
      "metadata": {
        "id": "C5JpOz1r0fJx"
      },
      "source": [
        "# Rule Definition\n",
        "rules = [\n",
        "  control.Rule(speed['fast'] & distance['close'], breaking['moderate']),\n",
        "  control.Rule(speed['fast'] & distance['far'], breaking['no_break']),\n",
        "\n",
        "  control.Rule(speed['very_fast'] & distance['close'], breaking['full_break']),\n",
        "  control.Rule(speed['very_fast'] & distance['far'], breaking['low']),\n",
        "\n",
        "  control.Rule(speed['slow'] & distance['close'], breaking['low']),\n",
        "  control.Rule(speed['slow'] & distance['far'], breaking['no_break'])\n",
        "]"
      ],
      "execution_count": 150,
      "outputs": []
    },
    {
      "cell_type": "code",
      "metadata": {
        "id": "gsrmdqGf4cSy"
      },
      "source": [
        "breaking_ctrl = control.ControlSystem(rules)\n",
        "decision = control.ControlSystemSimulation(breaking_ctrl)"
      ],
      "execution_count": 151,
      "outputs": []
    },
    {
      "cell_type": "code",
      "metadata": {
        "id": "rJeD83b92SBr",
        "outputId": "873f38b7-099c-4046-afbd-eeccbf289c7e",
        "colab": {
          "base_uri": "https://localhost:8080/",
          "height": 33
        }
      },
      "source": [
        "decision.input['speed'] = 12\n",
        "decision.input['distance'] = 1\n",
        "decision.compute()\n",
        "value = decision.output['breaking']\n",
        "\n",
        "print(value)"
      ],
      "execution_count": 153,
      "outputs": [
        {
          "output_type": "stream",
          "text": [
            "92.22222222222223\n"
          ],
          "name": "stdout"
        }
      ]
    },
    {
      "cell_type": "code",
      "metadata": {
        "id": "kRkNzoeW6lgQ"
      },
      "source": [
        ""
      ],
      "execution_count": 102,
      "outputs": []
    }
  ]
}