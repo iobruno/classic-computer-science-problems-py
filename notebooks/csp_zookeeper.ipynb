{
 "cells": [
  {
   "cell_type": "code",
   "execution_count": 1,
   "metadata": {
    "id": "IzrWFsa-0X6W"
   },
   "outputs": [],
   "source": [
    "from typing import TypeVar, Generic, Dict, List, Optional, Iterable\n",
    "from abc import ABC, abstractmethod\n",
    "\n",
    "import matplotlib.pyplot as plt\n",
    "import networkx as nx\n",
    "\n",
    "V = TypeVar(\"V\")\n",
    "D = TypeVar(\"D\")"
   ]
  },
  {
   "cell_type": "code",
   "execution_count": 2,
   "metadata": {
    "id": "b3_xRcve0cCF"
   },
   "outputs": [],
   "source": [
    "class Constraint(Generic[V, D], ABC):\n",
    "    \"\"\"\n",
    "    Abstract Base Class for all constraints\n",
    "    \"\"\"\n",
    "    variables: Iterable[V]\n",
    "\n",
    "    def __init__(self, variables: Iterable[V]):\n",
    "        self.variables = variables\n",
    "\n",
    "    @abstractmethod\n",
    "    def is_satisfied_with(self, assignment: Dict[V, D]) -> bool:\n",
    "        pass\n"
   ]
  },
  {
   "cell_type": "code",
   "execution_count": 3,
   "metadata": {
    "id": "c8lrvhg-0gCk"
   },
   "outputs": [],
   "source": [
    "class ConstraintSatisfactionProblem(Generic[V, D]):\n",
    "    variables: List[V]\n",
    "    domains: Dict[V, List[D]]\n",
    "    constraints: Dict[V, List[Constraint[V, D]]]\n",
    "\n",
    "    def __init__(self):\n",
    "        self.variables = list()\n",
    "        self.domains = dict()\n",
    "        self.constraints = dict()\n",
    "\n",
    "    def add_variable(self, var: V, domain: List[D]) -> 'CSP':\n",
    "        self.variables.append(var)\n",
    "        self.domains[var] = domain\n",
    "        self.constraints[var] = list()\n",
    "        return self\n",
    "\n",
    "    def add_constraint(self, constraint: Constraint[V, D]) -> 'CSP':\n",
    "        for var in constraint.variables:\n",
    "            if var not in self.variables:\n",
    "                raise LookupError(f\"Unknown variable {var} specified in constraint\")\n",
    "            self.constraints[var].append(constraint)\n",
    "        return self\n",
    "\n",
    "    def is_consistent(self, var: V, assignment: Dict[V, D]) -> bool:\n",
    "        for constraint in self.constraints[var]:\n",
    "            if not constraint.is_satisfied_with(assignment):\n",
    "                return False\n",
    "        return True\n",
    "\n",
    "    def backtracking_search(self, assignment: Dict[V, D] = {}) -> Optional[Dict[V, D]]:\n",
    "        if len(assignment) == len(self.variables):\n",
    "            return assignment\n",
    "\n",
    "        unassigned_vars: List[V] = [var for var in self.variables if var not in assignment]\n",
    "        most_constrained_var = max(unassigned_vars, key=lambda var: len(self.constraints[var]))\n",
    "\n",
    "        for value in self.domains[most_constrained_var]:\n",
    "            local_assignment = assignment.copy()\n",
    "            local_assignment[most_constrained_var] = value\n",
    "\n",
    "            if self.is_consistent(most_constrained_var, local_assignment):\n",
    "                result = self.backtracking_search(local_assignment)\n",
    "                if result is not None:\n",
    "                    return result\n",
    "\n",
    "        return None"
   ]
  },
  {
   "cell_type": "code",
   "execution_count": 4,
   "metadata": {
    "id": "I9xfp1KQ0geL"
   },
   "outputs": [],
   "source": [
    "class ZookeeperConstraint:\n",
    "\n",
    "    class Rejects(Constraint[str, str]):\n",
    "\n",
    "        def __init__(self, animal: str, neighbor_animal: str, reason: str = None):\n",
    "            super().__init__([animal, neighbor_animal])\n",
    "            self.animal1: str = animal\n",
    "            self.animal2: str = neighbor_animal\n",
    "            self.reason: str = reason\n",
    "\n",
    "        def is_satisfied_with(self, assignment: Dict[str, int]) -> bool:\n",
    "            \"\"\"\n",
    "            Assignment carries the whole configuration of which animals are assigned to which cage\n",
    "            Meaning: if animal2 IS NOT in it, the assignment is free for animal1 to use, and vice-versa\n",
    "            Otherwise, if both are in it, the constraint is satisfied\n",
    "            AS LONG AS animal1 and animal2 are NOT in the same\n",
    "            \"\"\"\n",
    "            if self.animal1 not in assignment or self.animal2 not in assignment:\n",
    "                return True\n",
    "\n",
    "            return assignment[self.animal1] != assignment[self.animal2]\n",
    "\n",
    "    class RejectsSameOrAdjacent(Constraint[str, str]):\n",
    "\n",
    "        def __init__(self, animal: str, another_animal: str, reason: str = None):\n",
    "            super().__init__([animal, another_animal])\n",
    "            self.animal1 = animal\n",
    "            self.animal2 = another_animal\n",
    "            self.reason: str = reason\n",
    "\n",
    "        def is_satisfied_with(self, assignment: Dict[str, int]) -> bool:\n",
    "            \"\"\"\n",
    "            Assignment carries the whole configuration of which animals are assigned to which cage\n",
    "            Meaning: if animal2 IS NOT in it, the assignment is free for animal1 to use, and vice-versa\n",
    "            Otherwise, if both are in it, the constraint is satisfied:\n",
    "            AS LONG AS animal1 and animal2 are NOT in the same or adjacent cages\n",
    "            \"\"\"\n",
    "\n",
    "            if self.animal1 not in assignment or self.animal2 not in assignment:\n",
    "                return True\n",
    "\n",
    "            animal1_cage: int = assignment[self.animal1]\n",
    "            animal2_cage: int = assignment[self.animal2]\n",
    "            return abs(animal1_cage - animal2_cage) > 1\n",
    "\n",
    "    class MustBeTogetherWith(Constraint[str, str]):\n",
    "\n",
    "        def __init__(self, animal: str, neighbor_animal: str, reason: str = None):\n",
    "            super().__init__([animal, neighbor_animal])\n",
    "            self.animal1: str = animal\n",
    "            self.animal2: str = neighbor_animal\n",
    "            self.reason: str = reason\n",
    "\n",
    "        def is_satisfied_with(self, assignment: Dict[str, str]) -> bool:\n",
    "            \"\"\"\n",
    "            Assignment carries the whole configuration of which animals are assigned to which cage\n",
    "            Meaning: if animal2 IS NOT in it, the assignment is free for animal1 to use, and vice-versa\n",
    "            Otherwise, if both are in it, the constraint is satisfied:\n",
    "            AS LONG AS animal1 and animal2 are BOTH in the SAME cage\n",
    "            \"\"\"\n",
    "            if self.animal1 not in assignment or self.animal2 not in assignment:\n",
    "                return True\n",
    "\n",
    "            return assignment[self.animal1] == assignment[self.animal2]\n",
    "\n",
    "    class MustBeInCageID(Constraint[str, int]):\n",
    "\n",
    "        def __init__(self, animal: str, cage: int, reason: str = None):\n",
    "            super().__init__([animal])\n",
    "            self.animal: str = animal\n",
    "            self.cage_number: int = cage\n",
    "            self.reason: str = reason\n",
    "\n",
    "        def is_satisfied_with(self, assignment: Dict[str, int]) -> bool:\n",
    "            \"\"\"\n",
    "            Assignment carries the whole configuration of which animals are assigned to which cage\n",
    "            Meaning: self.animal must have been assigned to specific self.cage\n",
    "            for this Constraint to be accepted, otherwise Reject\n",
    "            \"\"\"\n",
    "            return assignment[self.animal] == self.cage_number\n"
   ]
  },
  {
   "cell_type": "code",
   "execution_count": 5,
   "metadata": {
    "id": "i9WEaibg0o7U"
   },
   "outputs": [],
   "source": [
    "def zookeeper() -> Optional[Dict[str, int]]:\n",
    "    domain = [1, 2, 3, 4]\n",
    "    problem = ConstraintSatisfactionProblem()\\\n",
    "        .add_variable(var=\"Leao\", domain=domain)\\\n",
    "        .add_variable(var=\"Antilope\", domain=domain) \\\n",
    "        .add_variable(var=\"Hiena\", domain=domain) \\\n",
    "        .add_variable(var=\"Tigre\", domain=domain) \\\n",
    "        .add_variable(var=\"Pavao\", domain=domain) \\\n",
    "        .add_variable(var=\"Suricate\", domain=domain) \\\n",
    "        .add_variable(var=\"Javali\", domain=domain)\n",
    "\n",
    "    problem \\\n",
    "        .add_constraint(ZookeeperConstraint.Rejects(\"Leao\", \"Tigre\", reason=\"Regra #1\")) \\\n",
    "        .add_constraint(ZookeeperConstraint.MustBeTogetherWith(\"Suricate\", \"Javali\", reason=\"Regra #2\"))\\\n",
    "        .add_constraint(ZookeeperConstraint.Rejects(\"Hiena\", \"Leao\", reason=\"Regra #3\"))\\\n",
    "        .add_constraint(ZookeeperConstraint.Rejects(\"Hiena\", \"Antilope\", reason=\"Regra #3\")) \\\n",
    "        .add_constraint(ZookeeperConstraint.Rejects(\"Hiena\", \"Pavao\", reason=\"Regra #3\")) \\\n",
    "        .add_constraint(ZookeeperConstraint.Rejects(\"Hiena\", \"Suricate\", reason=\"Regra #3\")) \\\n",
    "        .add_constraint(ZookeeperConstraint.Rejects(\"Hiena\", \"Javali\", reason=\"Regra #3\")) \\\n",
    "        .add_constraint(ZookeeperConstraint.Rejects(\"Tigre\", \"Suricate\", reason=\"Regra #4\")) \\\n",
    "        .add_constraint(ZookeeperConstraint.Rejects(\"Tigre\", \"Javali\",  reason=\"Regra #4\")) \\\n",
    "        .add_constraint(ZookeeperConstraint.Rejects(\"Tigre\", \"Pavao\",  reason=\"Regra #4\")) \\\n",
    "        .add_constraint(ZookeeperConstraint.RejectsSameOrAdjacent(\"Antilope\", \"Leao\", reason=\"Regra #5\")) \\\n",
    "        .add_constraint(ZookeeperConstraint.RejectsSameOrAdjacent(\"Antilope\", \"Tigre\", reason=\"Regra #5\")) \\\n",
    "        .add_constraint(ZookeeperConstraint.Rejects(\"Pavao\", \"Leao\", reason=\"Regra #6\")) \\\n",
    "        .add_constraint(ZookeeperConstraint.MustBeInCageID(\"Leao\", 1, reason=\"Regra #7\"))\n",
    "\n",
    "\n",
    "    return problem.backtracking_search()"
   ]
  },
  {
   "cell_type": "code",
   "execution_count": 6,
   "metadata": {
    "id": "jjNsSDXj3Y26"
   },
   "outputs": [],
   "source": [
    "def render_layout(result):\n",
    "    g = nx.Graph()\n",
    "    g.add_edge('Cage 1', 'Cage 2')\n",
    "    g.add_edge('Cage 2', 'Cage 3')\n",
    "    g.add_edge('Cage 3', 'Cage 4')\n",
    "    [g.add_edge(key, f\"Cage {value}\") for key, value in result.items()]\n",
    "\n",
    "    position = nx.kamada_kawai_layout(g)\n",
    "    nx.draw_networkx_nodes(g, pos=position,\n",
    "                           nodelist=['Cage 1', 'Cage 2', 'Cage 3', 'Cage 4'],\n",
    "                           node_color='#999999',\n",
    "                           node_size=1800)\n",
    "\n",
    "    nx.draw_networkx_nodes(g, pos=position,\n",
    "                           nodelist=list(result.keys()),\n",
    "                           node_color='#444444',\n",
    "                           node_size=1500)\n",
    "\n",
    "    nx.draw_networkx_edges(g, pos=position,\n",
    "                           edgelist=g.edges,\n",
    "                           width=1,\n",
    "                           alpha=0.5,\n",
    "                           edge_color=\"black\")\n",
    "\n",
    "    nx.draw_networkx_labels(g, pos=position,\n",
    "                            font_size=8,\n",
    "                            font_family=\"sans-serif\",\n",
    "                            font_color=\"white\")\n",
    "\n",
    "    plt.rcParams['figure.figsize'] = [16, 9]\n",
    "    plt.rcParams['figure.dpi'] = 400\n",
    "    plt.title(\"Zookeeper Animal Setup\")\n",
    "    plt.axis(\"off\")\n",
    "    plt.show()"
   ]
  },
  {
   "cell_type": "code",
   "execution_count": 7,
   "metadata": {
    "id": "Q1U17BJi0t46"
   },
   "outputs": [],
   "source": [
    "result = zookeeper()"
   ]
  },
  {
   "cell_type": "code",
   "execution_count": 8,
   "metadata": {
    "colab": {
     "base_uri": "https://localhost:8080/",
     "height": 862
    },
    "id": "TlrCgR8500FC",
    "outputId": "8c7111e6-8dad-4176-c644-1bb366d87511"
   },
   "outputs": [
    {
     "data": {
      "image/png": "[encoded data removed]",
      "text/plain": [
       "<Figure size 640x480 with 1 Axes>"
      ]
     },
     "metadata": {},
     "output_type": "display_data"
    }
   ],
   "source": [
    "if result:\n",
    "  render_layout(result)\n",
    "else:\n",
    "  print(\"There's no solution for the Problem with the current Constraints\")"
   ]
  },
  {
   "cell_type": "code",
   "execution_count": null,
   "metadata": {
    "id": "g3BcOklV7Vp8"
   },
   "outputs": [],
   "source": []
  }
 ],
 "metadata": {
  "colab": {
   "collapsed_sections": [],
   "name": "csp_zookeeper.ipynb",
   "provenance": []
  },
  "kernelspec": {
   "display_name": "Python 3 (ipykernel)",
   "language": "python",
   "name": "python3"
  },
  "language_info": {
   "codemirror_mode": {
    "name": "ipython",
    "version": 3
   },
   "file_extension": ".py",
   "mimetype": "text/x-python",
   "name": "python",
   "nbconvert_exporter": "python",
   "pygments_lexer": "ipython3",
   "version": "3.11.5"
  }
 },
 "nbformat": 4,
 "nbformat_minor": 4
}
